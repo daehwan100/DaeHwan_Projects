{
 "cells": [
  {
   "cell_type": "code",
   "execution_count": null,
   "id": "51aed3ba",
   "metadata": {
    "ExecuteTime": {
     "end_time": "2022-12-10T08:26:50.342660Z",
     "start_time": "2022-12-10T08:26:50.317747Z"
    }
   },
   "outputs": [],
   "source": [
    "import numpy as np\n",
    "import pandas as pd\n",
    "import matplotlib.pyplot as plt\n",
    "import seaborn as sns\n",
    "import matplotlib\n",
    "from sklearn.preprocessing import MinMaxScaler\n",
    "from sklearn.model_selection import train_test_split\n",
    "from sklearn.metrics import mean_squared_error, r2_score\n",
    "from datetime import datetime, timedelta\n",
    "from sklearn.metrics import mean_squared_error\n",
    "from sklearn.metrics import mean_absolute_error\n",
    "import math"
   ]
  },
  {
   "cell_type": "markdown",
   "id": "289a020e",
   "metadata": {},
   "source": [
    "# 함수 정의"
   ]
  },
  {
   "cell_type": "code",
   "execution_count": null,
   "id": "c3f024e4",
   "metadata": {},
   "outputs": [],
   "source": [
    "\"\"\"\n",
    "데이터 셋 생성 함수 >>>>>>>>>>>>>>> 여기서 windowsize= 3은 3시간 치의 \n",
    "데이터로 다음 데이터를 예측하는 것(하이퍼파라미터) 변경 가능\n",
    "\"\"\"\n",
    "\n",
    "# 성능확인\n",
    "from sklearn.metrics import mean_absolute_error, mean_squared_error, mean_squared_log_error, r2_score\n",
    "\n",
    "def confirm_result(test_label,test_predict):\n",
    "    MAE = mean_absolute_error(test_label,test_predict)\n",
    "    RMSE = np.sqrt(mean_squared_error(test_label,test_predict))\n",
    "    MSE = RMSE**2\n",
    "    R2 = r2_score(test_label,test_predict)\n",
    "\n",
    "    Result = pd.DataFrame(data=[MAE, RMSE,MSE, R2],\n",
    "                        index= ['MAE', 'RMSE','MSE','R2'],\n",
    "                        columns =['Results'])\n",
    "  \n",
    "    return Result\n",
    "\n",
    "# 데이터셋(Train) 생성함수 정의\n",
    "def make_dataset(data, label, window_size):\n",
    "    feature_list = []\n",
    "    label_list = []\n",
    "    for i in range(len(data) - window_size - 72):\n",
    "        feature_list.append(np.array(data.iloc[i:i + window_size]))\n",
    "        label_list.append(np.array(label.iloc[i + 72 + window_size]))\n",
    "    return np.array(feature_list), np.array(label_list)\n",
    "\n",
    "# 데이터셋(Test) 생성함수 정의\n",
    "def make_dataset_test(data, window_size):\n",
    "    feature_list = []\n",
    "    label_list = []\n",
    "    for i in range(len(data) - window_size):\n",
    "        feature_list.append(np.array(data.iloc[i:i + window_size]))\n",
    "    return np.array(feature_list)\n",
    "\n",
    "# 정규화 된 값 돌리기 위한 함수\n",
    "# 정규화된 값을 원래의 값으로 되돌린다\n",
    "# 정규화하기 이전의 org_x값과 되돌리고 싶은 x를 입력하면 역정규화된 값을 리턴한다\n",
    "def reverse_min_max_scaling(org_x, x):\n",
    "    org_x_np = np.asarray(org_x)\n",
    "    x_np = np.asarray(x)\n",
    "    return (x_np * (org_x_np.max() - org_x_np.min() + 1e-7)) + org_x_np.min()"
   ]
  },
  {
   "cell_type": "markdown",
   "id": "b0f4e8d7",
   "metadata": {},
   "source": [
    "## 전처리 된 DATASET 불러오기"
   ]
  },
  {
   "cell_type": "code",
   "execution_count": null,
   "id": "41562d29",
   "metadata": {
    "ExecuteTime": {
     "end_time": "2022-12-10T08:26:51.051643Z",
     "start_time": "2022-12-10T08:26:50.891604Z"
    }
   },
   "outputs": [],
   "source": [
    "df_all = pd.read_csv('DF_ALL_20_21(지면온도).csv', encoding='cp949') # 24개월 데이터 모두"
   ]
  },
  {
   "cell_type": "code",
   "execution_count": null,
   "id": "939de59f",
   "metadata": {
    "ExecuteTime": {
     "end_time": "2022-12-10T08:26:51.475244Z",
     "start_time": "2022-12-10T08:26:51.429885Z"
    }
   },
   "outputs": [],
   "source": [
    "df_all['date'] = pd.to_datetime(df_all['date'])\n",
    "df_all_date = df_all['date']\n",
    "\n",
    "df_all = df_all.set_index('date')\n",
    "df = df_all"
   ]
  },
  {
   "cell_type": "markdown",
   "id": "ad0c1841",
   "metadata": {},
   "source": [
    "## 정규화"
   ]
  },
  {
   "cell_type": "code",
   "execution_count": null,
   "id": "698f5c5d",
   "metadata": {
    "ExecuteTime": {
     "end_time": "2022-12-10T08:26:52.783768Z",
     "start_time": "2022-12-10T08:26:52.739731Z"
    }
   },
   "outputs": [],
   "source": [
    "#####정규화#####\n",
    "from sklearn.preprocessing import MinMaxScaler\n",
    "scaler = MinMaxScaler(feature_range=(0, 1))\n",
    "\n",
    "scale_cols = df.columns\n",
    "\n",
    "df_scaled = scaler.fit_transform(df[scale_cols])\n",
    "df_scaled =pd.DataFrame(df_scaled)\n",
    "df_scaled = df_scaled.set_index(df_all_date)"
   ]
  },
  {
   "cell_type": "code",
   "execution_count": null,
   "id": "a1a76410",
   "metadata": {
    "ExecuteTime": {
     "end_time": "2022-12-10T08:46:03.390518Z",
     "start_time": "2022-12-10T08:46:03.372135Z"
    }
   },
   "outputs": [],
   "source": [
    "# Test 사이즈 지정\n",
    "train = df_scaled[:-168] #ex) 240은 240시간 = 10일\n",
    "test = df_scaled[-96:]"
   ]
  },
  {
   "cell_type": "markdown",
   "id": "f8e30ed0",
   "metadata": {},
   "source": [
    "## TRAIN TEST SPLIT"
   ]
  },
  {
   "cell_type": "code",
   "execution_count": null,
   "id": "6ed9c9ad",
   "metadata": {
    "ExecuteTime": {
     "end_time": "2022-12-10T09:28:13.688739Z",
     "start_time": "2022-12-10T09:28:10.653138Z"
    },
    "scrolled": true
   },
   "outputs": [],
   "source": [
    "WINDOWSIZE = 24\n",
    "\n",
    "#### (windowsize)시간의 데이터로 1시간을 예측\n",
    "from sklearn.model_selection import train_test_split\n",
    "\n",
    "feature_cols = range(1,20)\n",
    "label_cols = [0] ##\n",
    "\n",
    "x_train = train[feature_cols]\n",
    "y_train = train[label_cols]\n",
    "\n",
    "x_train, y_train = make_dataset(x_train, y_train, WINDOWSIZE) #windowsize 변경하기 \n",
    "print(x_train.shape)\n",
    "\n",
    "x_test = test[feature_cols]\n",
    "x_test = make_dataset_test(x_test, WINDOWSIZE)"
   ]
  },
  {
   "cell_type": "markdown",
   "id": "51e373de",
   "metadata": {},
   "source": [
    "# SVR"
   ]
  },
  {
   "cell_type": "code",
   "execution_count": null,
   "id": "098de298",
   "metadata": {},
   "outputs": [],
   "source": [
    "from sklearn.svm import SVR\n",
    "\n",
    "svr = SVR(kernel='rbf',C=50000,gamma=0.01)\n",
    "pipeline_svr = Pipeline([\n",
    "    ('standard_scaler', StandardScaler()), \n",
    "    ('pca', PCA()), \n",
    "    ('model', svr)\n",
    "])\n",
    "\n",
    "pipeline.fit(x_train,y_train)"
   ]
  },
  {
   "cell_type": "code",
   "execution_count": null,
   "id": "5a24b766",
   "metadata": {},
   "outputs": [],
   "source": [
    "svr_pred = pipeline_svr.fit(x_train, y_train).predict(x_test)\n",
    "confirm_result(y_test, svr_pred)"
   ]
  },
  {
   "cell_type": "code",
   "execution_count": null,
   "id": "dbba54fe",
   "metadata": {},
   "outputs": [],
   "source": [
    "plt.figure(figsize=(12, 9))\n",
    "plt.plot(y_test, label = 'actual')\n",
    "plt.plot(svr_pred, label = 'prediction')\n",
    "plt.legend()\n",
    "plt.show()"
   ]
  },
  {
   "cell_type": "markdown",
   "id": "8c866513",
   "metadata": {},
   "source": [
    "# KNR"
   ]
  },
  {
   "cell_type": "code",
   "execution_count": null,
   "id": "21a5c3e9",
   "metadata": {},
   "outputs": [],
   "source": [
    "from sklearn.neighbors import KNeighborsRegressor\n",
    "\n",
    "knr = KNeighborsRegressor()\n",
    "knr.n_neighbors = 5\n",
    "pipeline_knr = Pipeline([\n",
    "    ('standard_scaler', StandardScaler()), \n",
    "    ('pca', PCA()), \n",
    "    ('model', knr)\n",
    "])\n",
    "pipeline_knr.fit(X_train,y_train)"
   ]
  },
  {
   "cell_type": "code",
   "execution_count": null,
   "id": "079455df",
   "metadata": {},
   "outputs": [],
   "source": [
    "knr_pred = pipeline_knr.fit(x_train, y_train).predict(x_test)\n",
    "confirm_result(y_test, knr_pred)"
   ]
  },
  {
   "cell_type": "code",
   "execution_count": null,
   "id": "378b02ca",
   "metadata": {},
   "outputs": [],
   "source": [
    "plt.figure(figsize=(12, 9))\n",
    "plt.plot(y_test, label = 'actual')\n",
    "plt.plot(knr_pred, label = 'prediction')\n",
    "plt.legend()\n",
    "plt.show()"
   ]
  },
  {
   "cell_type": "markdown",
   "id": "ecd10d5f",
   "metadata": {},
   "source": [
    "# XGBoost"
   ]
  },
  {
   "cell_type": "code",
   "execution_count": null,
   "id": "3b84962f",
   "metadata": {},
   "outputs": [],
   "source": [
    "import xgboost as xgb\n",
    "xg_reg=xgb.XGBRegressor(objective='reg:squarederror',booster='gbtree',colsample_bytree=0.85,\n",
    "                        learning_rate=0.2,max_depth=5,alpha=1,n_estimators=50000)\n",
    "pipeline_xgr = Pipeline([\n",
    "    ('standard_scaler', StandardScaler()), \n",
    "    ('pca', PCA()), \n",
    "    ('model', xg_reg)\n",
    "])"
   ]
  },
  {
   "cell_type": "code",
   "execution_count": null,
   "id": "f4aa2cfd",
   "metadata": {},
   "outputs": [],
   "source": [
    "xgr_pred = pipeline_xgr.fit(X_train, y_train).predict(X_test)\n",
    "confirm_result(y_test, xgr_pred)"
   ]
  },
  {
   "cell_type": "code",
   "execution_count": null,
   "id": "50a2599c",
   "metadata": {},
   "outputs": [],
   "source": [
    "plt.figure(figsize=(12, 9))\n",
    "plt.plot(y_test, label = 'actual')\n",
    "plt.plot(knr_pred, label = 'prediction')\n",
    "plt.legend()\n",
    "plt.show()"
   ]
  },
  {
   "cell_type": "markdown",
   "id": "b060efa7",
   "metadata": {},
   "source": [
    "# LGBM"
   ]
  },
  {
   "cell_type": "code",
   "execution_count": null,
   "id": "6fa56bae",
   "metadata": {},
   "outputs": [],
   "source": [
    "from lightgbm import LGBMRegressor\n",
    "lgbm_reg = LGBMRegressor(booster='gbtree',colsample_bytree=0.75,learning_rate=0.1,max_depth=5,\n",
    "                       alpha=1,n_estimators=10000)\n",
    "pipeline_lgbm = Pipeline([\n",
    "    ('standard_scaler', StandardScaler()), \n",
    "    ('pca', PCA()), \n",
    "    ('model', lgbm_reg)\n",
    "])"
   ]
  },
  {
   "cell_type": "code",
   "execution_count": null,
   "id": "ddbe1a32",
   "metadata": {},
   "outputs": [],
   "source": [
    "lgbm_pred = pipeline_lgbm.fit(X_train, y_train).predict(X_test)\n",
    "confirm_result(y_test, lgbm_pred)"
   ]
  },
  {
   "cell_type": "code",
   "execution_count": null,
   "id": "1fc88a45",
   "metadata": {},
   "outputs": [],
   "source": [
    "plt.figure(figsize=(12, 9))\n",
    "plt.plot(y_test, label = 'actual')\n",
    "plt.plot(lgbm_pred, label = 'prediction')\n",
    "plt.legend()\n",
    "plt.show()"
   ]
  },
  {
   "cell_type": "markdown",
   "id": "7c1738ef",
   "metadata": {},
   "source": [
    "# LSTM"
   ]
  },
  {
   "cell_type": "code",
   "execution_count": null,
   "id": "a23546df",
   "metadata": {},
   "outputs": [],
   "source": [
    "\"\"\"\n",
    "#####모델 구성#####\n",
    "\"\"\"\n",
    "from tensorflow.keras.models import Sequential\n",
    "from tensorflow.keras.layers import Dense\n",
    "from tensorflow.keras.callbacks import EarlyStopping, ModelCheckpoint\n",
    "from tensorflow.keras.layers import LSTM\n",
    "\n",
    "model_LSTM = Sequential()\n",
    "model_LSTM.add(LSTM(32, input_shape=(x_train.shape[1], x_train.shape[2]), \n",
    "                            activation='tanh', return_sequences=True)) # 층을 여러개 쓰려면 True로 변경\n",
    "model_LSTM.add(LSTM(64, input_shape=(x_train.shape[1], x_train.shape[2]), \n",
    "                            activation='tanh', return_sequences=True)) # 층을 여러개 쓰려면 True로 변경\n",
    "model_LSTM.add(LSTM(128, input_shape=(x_train.shape[1], x_train.shape[2]), \n",
    "                            activation='tanh', return_sequences=False)) # 층을 여러개 쓰려면 True로 변경\n",
    "model_LSTM.add(Dense(64))\n",
    "model_LSTM.add(Dense(32))\n",
    "model_LSTM.add(Dense(1))\n",
    "model_LSTM.summary()"
   ]
  },
  {
   "cell_type": "code",
   "execution_count": null,
   "id": "6f4428d8",
   "metadata": {},
   "outputs": [],
   "source": [
    "\"\"\"\n",
    "##### 모델 실행 #####\n",
    "\"\"\"\n",
    "import os\n",
    "\n",
    "model_LSTM.compile(loss='mean_squared_error', optimizer='adam')\n",
    "early_stop = EarlyStopping(monitor='val_loss', patience=5)\n",
    "\n",
    "print('train:', x_train.shape, y_train.shape, '  valid:',x_valid.shape, y_valid.shape)\n",
    "\n",
    "history = model_LSTM.fit(x_train, y_train, epochs=10, batch_size=128, \n",
    "                    validation_data=(x_valid, y_valid), \n",
    "                    callbacks=[early_stop])\n",
    "\n",
    "pred_LSTM = model_LSTM.predict(x_test)\n",
    "\n",
    "\n",
    "loss = history.history['loss']\n",
    "val_loss = history.history['val_loss']\n",
    "epochs = range(len(loss))\n",
    "\n",
    "print(confirm_result(y_test, pred_LSTM))"
   ]
  },
  {
   "cell_type": "code",
   "execution_count": null,
   "id": "7b0ffc90",
   "metadata": {},
   "outputs": [],
   "source": [
    "val_loss_acc = model.evaluate(x_train, y_train)\n",
    "test_loss_acc = model.evaluate(x_valid, y_valid)\n",
    "print('  val_loss_acc:', round(val_loss_acc, 4), '  test_loss_acc:', round(test_loss_acc, 4),'  loss:',  round(loss[-1], 4), '  val_loss:',round(val_loss[-1], 4))"
   ]
  },
  {
   "cell_type": "markdown",
   "id": "9e0b2fed",
   "metadata": {},
   "source": [
    "# GRU"
   ]
  },
  {
   "cell_type": "code",
   "execution_count": null,
   "id": "882deabe",
   "metadata": {
    "ExecuteTime": {
     "end_time": "2022-12-10T08:46:18.550822Z",
     "start_time": "2022-12-10T08:46:18.236799Z"
    }
   },
   "outputs": [],
   "source": [
    "\"\"\"\n",
    "#####모델 구성#####\n",
    "\"\"\"\n",
    "from tensorflow.keras.layers import GRU\n",
    "\n",
    "model_GRU = Sequential()\n",
    "model_GRU.add(GRU(units=32, activation=\"relu\", return_sequences=True, input_shape =(x_train.shape[1], x_train.shape[2])))\n",
    "model_GRU.add(GRU(units=64, activation=\"relu\", return_sequences=True))\n",
    "model_GRU.add(GRU(units=128, activation=\"relu\", return_sequences=False))\n",
    "model_GRU.add(Dense(units = 64))                \n",
    "model_GRU.add(Dense(units = 32))\n",
    "model_GRU.add(Dense(units = 1))\n",
    "model_GRU.summary()"
   ]
  },
  {
   "cell_type": "code",
   "execution_count": null,
   "id": "45c883cb",
   "metadata": {
    "ExecuteTime": {
     "end_time": "2022-12-10T09:23:42.095131Z",
     "start_time": "2022-12-10T08:46:20.996961Z"
    }
   },
   "outputs": [],
   "source": [
    "\"\"\"\n",
    "##### 모델 실행 #####\n",
    "\"\"\"\n",
    "import os\n",
    "#컴파일링\n",
    "model_GRU.compile(optimizer='adam',loss='mean_squared_error')\n",
    " #피팅\n",
    "\n",
    "# early_stop = EarlyStopping(monitor='val_loss', patience=10)\n",
    "history = model_GRU.fit(x_train, train_label,epochs=50,batch_size=16)\n",
    "\n",
    "pred_GRU = model_GRU.predict(y_train)\n",
    "\n",
    "loss = history.history['loss']\n",
    "epochs = range(len(loss))\n",
    "\n",
    "print(confirm_result(y_test, pred_GRU))"
   ]
  },
  {
   "cell_type": "code",
   "execution_count": null,
   "id": "f66c4aca",
   "metadata": {},
   "outputs": [],
   "source": [
    "val_loss_acc = model.evaluate(x_train, y_train)\n",
    "test_loss_acc = model.evaluate(x_valid, y_valid)\n",
    "print('  val_loss_acc:', round(val_loss_acc, 4), '  test_loss_acc:', round(test_loss_acc, 4),'  loss:',  round(loss[-1], 4), '  val_loss:',round(val_loss[-1], 4))"
   ]
  },
  {
   "cell_type": "markdown",
   "id": "9f5ac7b8",
   "metadata": {},
   "source": [
    "# CNN-LSTM"
   ]
  },
  {
   "cell_type": "code",
   "execution_count": null,
   "id": "d135f944",
   "metadata": {},
   "outputs": [],
   "source": [
    "\"\"\" \n",
    "#####시퀀스 데이터셋 구성##### \n",
    "\"\"\"\n",
    "import tensorflow as tf\n",
    "\n",
    "def windowed_dataset(series, window_size, batch_size, shuffle):\n",
    "  series = tf.expand_dims(series, axis=-1)\n",
    "  ds = tf.data.Dataset.from_tensor_slices(series)\n",
    "  ds = ds.window(window_size + 48, shift = 1, drop_remainder = True)\n",
    "  ds = ds.flat_map(lambda w: w.batch(window_size + 48))      # window_size 시간의 데이터로 다음 1시간을 예측\n",
    "  if shuffle:\n",
    "    ds = ds.shuffle(1000)\n",
    "  ds = ds.map(lambda w: (w[:-48], w[-24]))\n",
    "\n",
    "  return ds.batch(batch_size).prefetch(1)"
   ]
  },
  {
   "cell_type": "code",
   "execution_count": null,
   "id": "c9a099b8",
   "metadata": {},
   "outputs": [],
   "source": [
    "\"\"\"\n",
    "#####모델 구성#####\n",
    "\"\"\"\n",
    "from tensorflow.keras.layers import Conv1D, Lambda\n",
    "from tensorflow.keras.optimizers import Adam\n",
    "from tensorflow.keras.callbacks import EarlyStopping, ModelCheckpoint\n",
    "\n",
    "model_CNN_LSTM = Sequential([\n",
    "    Conv1D(filters=32, kernel_size=5, padding='causal', activation='relu', input_shape=[WINDOW_SIZE, 1]),\n",
    "    LSTM(16, activation='tanh'), Dense(16, activation='relu'), Dense(1),\n",
    "])\n",
    "\n",
    "\"\"\"\n",
    "#####모델 생성#####\n",
    "\"\"\"\n",
    "model_CNN_LSTM.compile(loss='mse', optimizer='Adam', metrics=['mse'],run_eagerly=True)"
   ]
  },
  {
   "cell_type": "code",
   "execution_count": null,
   "id": "0e3b9318",
   "metadata": {},
   "outputs": [],
   "source": [
    "\"\"\"\n",
    "#####모델 학습#####\n",
    "\"\"\"\n",
    "checkpoint = ModelCheckpoint(path, save_weights_only=True, save_best_only=True, monitor='val_loss', verbose=1, )  # 최적 loss 값을 갖는 모델 저장\n",
    "history = model_CNN_LSTM.fit(train_data, validation_data=(test), epochs=15, batch_size=32, callbacks=[checkpoint])\n",
    "\n",
    "pred_CNN_LSTM = model.predict(test)\n",
    "confirm_result(test, pred_CNN_LSTM)"
   ]
  },
  {
   "cell_type": "markdown",
   "id": "ee1e3256",
   "metadata": {},
   "source": [
    "## 손실함수 그래프 확인"
   ]
  },
  {
   "cell_type": "code",
   "execution_count": null,
   "id": "46a9065d",
   "metadata": {},
   "outputs": [],
   "source": [
    "#####훈련데이터 검증데이터 손실함수 그래프 나타내기\n",
    "## 각 모델별로 따로 그리기\n",
    "\n",
    "plt.plot(epochs, loss, 'b', label='Training Loss')\n",
    "plt.plot(epochs, val_loss, 'r', label='Validation Loss')\n",
    "plt.title('Training and validation loss')\n",
    "plt.legend()\n",
    "plt.show()\n",
    "\n",
    "plt.figure(figsize=(20,10))\n",
    "plt.plot(pred, label = 'actual')\n",
    "plt.plot(test_label, label = 'prediction')\n",
    "plt.legend()\n",
    "plt.show()\n",
    "\n",
    "print(confirm_result(pred,test_label))"
   ]
  }
 ],
 "metadata": {
  "kernelspec": {
   "display_name": "Python 3 (ipykernel)",
   "language": "python",
   "name": "python3"
  },
  "language_info": {
   "codemirror_mode": {
    "name": "ipython",
    "version": 3
   },
   "file_extension": ".py",
   "mimetype": "text/x-python",
   "name": "python",
   "nbconvert_exporter": "python",
   "pygments_lexer": "ipython3",
   "version": "3.9.7"
  },
  "toc": {
   "base_numbering": 1,
   "nav_menu": {},
   "number_sections": true,
   "sideBar": true,
   "skip_h1_title": false,
   "title_cell": "Table of Contents",
   "title_sidebar": "Contents",
   "toc_cell": false,
   "toc_position": {},
   "toc_section_display": true,
   "toc_window_display": false
  },
  "varInspector": {
   "cols": {
    "lenName": 16,
    "lenType": 16,
    "lenVar": 40
   },
   "kernels_config": {
    "python": {
     "delete_cmd_postfix": "",
     "delete_cmd_prefix": "del ",
     "library": "var_list.py",
     "varRefreshCmd": "print(var_dic_list())"
    },
    "r": {
     "delete_cmd_postfix": ") ",
     "delete_cmd_prefix": "rm(",
     "library": "var_list.r",
     "varRefreshCmd": "cat(var_dic_list()) "
    }
   },
   "position": {
    "height": "478.8px",
    "left": "1716.01px",
    "right": "20px",
    "top": "166.994px",
    "width": "423.487px"
   },
   "types_to_exclude": [
    "module",
    "function",
    "builtin_function_or_method",
    "instance",
    "_Feature"
   ],
   "window_display": false
  }
 },
 "nbformat": 4,
 "nbformat_minor": 5
}
