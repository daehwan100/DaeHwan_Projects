{
 "cells": [
  {
   "cell_type": "code",
   "execution_count": null,
   "id": "f35f70c9",
   "metadata": {
    "ExecuteTime": {
     "end_time": "2023-08-09T05:37:20.035217Z",
     "start_time": "2023-08-09T05:37:15.376498Z"
    }
   },
   "outputs": [],
   "source": [
    "import pandas as pd\n",
    "import seaborn as sns\n",
    "import matplotlib.pyplot as plt\n",
    "import numpy as np"
   ]
  },
  {
   "cell_type": "code",
   "execution_count": null,
   "id": "55000915",
   "metadata": {
    "ExecuteTime": {
     "end_time": "2023-08-09T05:37:22.651867Z",
     "start_time": "2023-08-09T05:37:21.961080Z"
    }
   },
   "outputs": [],
   "source": [
    "# 지면온도\n",
    "data_train = pd.read_csv(r\"surface_tp_train.csv\", encoding = \"cp949\")\n",
    "data_test = pd.read_csv(r\"surface_tp_test.csv\", encoding = \"cp949\")"
   ]
  },
  {
   "cell_type": "markdown",
   "id": "bd344584",
   "metadata": {},
   "source": [
    "# 사계절 나누기"
   ]
  },
  {
   "cell_type": "code",
   "execution_count": null,
   "id": "dbc76024",
   "metadata": {
    "ExecuteTime": {
     "end_time": "2023-08-09T05:37:23.417500Z",
     "start_time": "2023-08-09T05:37:23.330537Z"
    }
   },
   "outputs": [],
   "source": [
    "# 'mmddhh' 기준\n",
    "data_train['surface_tp_train.mmddhh'] = data_train['surface_tp_train.mmddhh'].astype(int)\n",
    "\n",
    "# 각 계절에\n",
    "spring_mask = (data_train['surface_tp_train.mmddhh'] >= 20100) & (data_train['surface_tp_train.mmddhh'] <= 43023)\n",
    "summer_mask = (data_train['surface_tp_train.mmddhh'] >= 50100) & (data_train['surface_tp_train.mmddhh'] <= 73123)\n",
    "autumn_mask = (data_train['surface_tp_train.mmddhh'] >= 80100) & (data_train['surface_tp_train.mmddhh'] <= 103123)\n",
    "winter_mask = (data_train['surface_tp_train.mmddhh'] >= 110100) | (data_train['surface_tp_train.mmddhh'] <= 13123)\n",
    "\n",
    "# 데이터프레임에서 계절별로 데이터 선택\n",
    "spring_df = data_train[spring_mask]\n",
    "summer_df = data_train[summer_mask]\n",
    "autumn_df = data_train[autumn_mask]\n",
    "winter_df = data_train[winter_mask]"
   ]
  },
  {
   "cell_type": "markdown",
   "id": "e4539189",
   "metadata": {},
   "source": [
    "# 전처리 함수정의"
   ]
  },
  {
   "cell_type": "code",
   "execution_count": null,
   "id": "d08422b9",
   "metadata": {
    "ExecuteTime": {
     "end_time": "2023-08-09T05:37:24.302203Z",
     "start_time": "2023-08-09T05:37:24.265691Z"
    }
   },
   "outputs": [],
   "source": [
    "def 전처리(df_season):\n",
    "    df_season['surface_tp_train.mmddhh']=df_season['surface_tp_train.mmddhh'].apply(lambda x : str(x).zfill(6))\n",
    "    \n",
    "    # 데이터프레임 생성 예시\n",
    "    df_season['surface_tp_train.mmddhh_categorical_month'] = df_season['surface_tp_train.mmddhh'].str[0:2]\n",
    "    df_season['surface_tp_train.mmddhh_categorical_day'] = df_season['surface_tp_train.mmddhh'].str[2:4]\n",
    "    df_season['surface_tp_train.mmddhh_categorical_hour'] = df_season['surface_tp_train.mmddhh'].str[-2:]\n",
    "\n",
    "    df_season.loc[(df_season['surface_tp_train.mmddhh_categorical_month'] == '11'), 'surface_tp_train.mmddhh_categorical_month'] = 0\n",
    "    df_season.loc[(df_season['surface_tp_train.mmddhh_categorical_month'] == '12'), 'surface_tp_train.mmddhh_categorical_month'] = 1\n",
    "    df_season.loc[(df_season['surface_tp_train.mmddhh_categorical_month'] == '01'), 'surface_tp_train.mmddhh_categorical_month'] = 2\n",
    "\n",
    "    df_set = df_season\n",
    "    df_set = df_set.drop(['Unnamed: 0', 'surface_tp_train.stn', 'surface_tp_train.year', 'surface_tp_train.mmddhh'], axis = 1)\n",
    "\n",
    "    for i in ['rn', 'si', 'ss', 'sn']: # 0으로 대체할 변수들\n",
    "        df_set['surface_tp_train.{}'.format(i)].replace(-99.9, 0, inplace=True)\n",
    "    # RN = 1.8, 3.3, 5.3, 19.5, 30.3, 623.5 -> -99\n",
    "    df_set['surface_tp_train.re'].replace(-99, 0, inplace=True)\n",
    "    df_set['surface_tp_train.re'].replace(1.8, 0, inplace=True)\n",
    "    df_set['surface_tp_train.re'].replace(3.3, 0, inplace=True)\n",
    "    df_set['surface_tp_train.re'].replace(5.3, 0, inplace=True)\n",
    "    df_set['surface_tp_train.re'].replace(19.5, 0, inplace=True)\n",
    "    df_set['surface_tp_train.re'].replace(30.3, 0, inplace=True)\n",
    "    df_set['surface_tp_train.re'].replace(623.5, 0, inplace=True)\n",
    "\n",
    "\n",
    "    for i in ['ta', 'td', 'hm', 'ws', 'ts']:\n",
    "        df_set['surface_tp_train.{}'.format(i)].replace(-99.9, np.nan, inplace = True)\n",
    "        df_set['surface_tp_train.{}'.format(i)].interpolate(method='cubic', limit_area='inside', limit=100, inplace=True)\n",
    "\n",
    "\n",
    "    # 범주형 변수로 변환\n",
    "    df_set['surface_tp_train.ww_category'] = pd.Categorical(df_set['surface_tp_train.ww'])\n",
    "\n",
    "    # 숫자로 변환\n",
    "    df_set['surface_tp_train.ww'] = df_set['surface_tp_train.ww_category'].cat.codes\n",
    "    df_set['surface_tp_train.ww'].unique()\n",
    "    df_set.drop(['surface_tp_train.ww_category'], axis = 1, inplace = True)\n",
    "\n",
    "    \n",
    "    return df_set"
   ]
  },
  {
   "cell_type": "code",
   "execution_count": null,
   "id": "b4da41bc",
   "metadata": {
    "ExecuteTime": {
     "end_time": "2023-08-09T05:37:27.455865Z",
     "start_time": "2023-08-09T05:37:25.797545Z"
    }
   },
   "outputs": [],
   "source": [
    "df_전처리_spring = 전처리(spring_df) # spring_df, summer_df, autumn_df, winter_df\n",
    "df_전처리_summer = 전처리(summer_df) # spring_df, summer_df, autumn_df, winter_df\n",
    "df_전처리_autumn = 전처리(autumn_df) # spring_df, summer_df, autumn_df, winter_df\n",
    "df_전처리_winter = 전처리(winter_df) # spring_df, summer_df, autumn_df, winter_df"
   ]
  },
  {
   "cell_type": "markdown",
   "id": "db0acd1f",
   "metadata": {},
   "source": [
    "# 분석"
   ]
  },
  {
   "cell_type": "code",
   "execution_count": null,
   "id": "71b30d35",
   "metadata": {
    "ExecuteTime": {
     "end_time": "2023-08-09T05:37:28.101718Z",
     "start_time": "2023-08-09T05:37:28.096380Z"
    }
   },
   "outputs": [],
   "source": [
    "df = df_전처리_winter"
   ]
  },
  {
   "cell_type": "code",
   "execution_count": null,
   "id": "52116b67",
   "metadata": {
    "ExecuteTime": {
     "end_time": "2023-08-09T05:37:28.754421Z",
     "start_time": "2023-08-09T05:37:28.745645Z"
    }
   },
   "outputs": [],
   "source": [
    "df.reset_index(drop = True, inplace = True)"
   ]
  },
  {
   "cell_type": "code",
   "execution_count": null,
   "id": "bc2b6314",
   "metadata": {
    "ExecuteTime": {
     "end_time": "2023-08-09T05:37:29.402013Z",
     "start_time": "2023-08-09T05:37:29.379047Z"
    }
   },
   "outputs": [],
   "source": [
    "y = df['surface_tp_train.ts']\n",
    "X = df.drop('surface_tp_train.ts', axis=1)"
   ]
  },
  {
   "cell_type": "markdown",
   "id": "d8c6f587",
   "metadata": {},
   "source": [
    "### train_test_split"
   ]
  },
  {
   "cell_type": "code",
   "execution_count": null,
   "id": "c17ace48",
   "metadata": {
    "ExecuteTime": {
     "end_time": "2023-08-09T05:38:05.986984Z",
     "start_time": "2023-08-09T05:38:05.950020Z"
    }
   },
   "outputs": [],
   "source": [
    "#train, test 분류. test_size=0.1\n",
    "from sklearn.model_selection import train_test_split\n",
    "from sklearn.utils import shuffle\n",
    "\n",
    "# # X, y = shuffle(X, y, random_state=1)\n",
    "X_train, X_test, y_train, y_test=train_test_split(X,y,test_size=0.001, shuffle = False)"
   ]
  },
  {
   "cell_type": "markdown",
   "id": "870e075d",
   "metadata": {},
   "source": [
    "# 함수 정의 및 Scaler"
   ]
  },
  {
   "cell_type": "code",
   "execution_count": null,
   "id": "b3372bf8",
   "metadata": {
    "ExecuteTime": {
     "end_time": "2023-08-09T05:38:07.175915Z",
     "start_time": "2023-08-09T05:38:07.167918Z"
    }
   },
   "outputs": [],
   "source": [
    "def adj_r2_score(y_true, y_pred, p):\n",
    "    return 1-(1-r2_score(y_true, y_pred)) * (len(y_true)-1) / (len(y_true) - p - 1)\n",
    "\n",
    "def mae_r2_plot(y_test, y_predict):\n",
    "    from sklearn.metrics import mean_absolute_error\n",
    "    mae = mean_absolute_error(y_test, y_predict)\n",
    "    print('R2 : ', round(r2_score(y_test, y_predict),5), ', adj_R2 : ', round(adj_r2_score(y_test, y_predict, X.shape[1]),5), ', mae : ', round(mae,5))\n",
    "\n",
    "    x_test = range(len(y_test))  \n",
    "    \n",
    "    plt.figure(figsize=(40, 16))\n",
    "    plt.plot(x_test, y_test, label='Actual', alpha = 1)\n",
    "    plt.plot(x_test, y_predict, label='Predicted', alpha = 0.8)\n",
    "    plt.legend()\n",
    "    plt.show()"
   ]
  },
  {
   "cell_type": "code",
   "execution_count": null,
   "id": "8d84c2c3",
   "metadata": {
    "ExecuteTime": {
     "end_time": "2023-08-09T05:38:08.169529Z",
     "start_time": "2023-08-09T05:38:07.834338Z"
    }
   },
   "outputs": [],
   "source": [
    "# scaler = MinMaxScaler()\n",
    "# X_train_scaled = scaler.fit_transform(X_train)\n",
    "# X_test_scaled = scaler.transform(X_test)\n",
    "from sklearn.metrics import mean_squared_error, r2_score\n",
    "from sklearn.preprocessing import StandardScaler\n",
    "from sklearn.preprocessing import MinMaxScaler\n",
    "\n",
    "scaler = StandardScaler()\n",
    "X_train_scaled = scaler.fit_transform(X_train)\n",
    "X_test_scaled = scaler.transform(X_test)"
   ]
  },
  {
   "cell_type": "markdown",
   "id": "8a762681",
   "metadata": {},
   "source": [
    "# CatBoostRegressor"
   ]
  },
  {
   "cell_type": "markdown",
   "id": "aa9d9dfa",
   "metadata": {},
   "source": [
    "## Optuna"
   ]
  },
  {
   "cell_type": "code",
   "execution_count": null,
   "id": "dbfd1654",
   "metadata": {},
   "outputs": [],
   "source": [
    "# Optuna Libraries\n",
    "from catboost import CatBoostRegressor\n",
    "import optuna\n",
    "from optuna import Trial\n",
    "from optuna.samplers import TPESampler\n",
    "\n",
    "# random sampler\n",
    "sampler = TPESampler(seed=10)\n",
    "\n",
    "# define function\n",
    "def objective(trial):\n",
    "\n",
    "    cbrm_param = {\n",
    "        'iterations':trial.suggest_int(\"iterations\", 100, 10000),\n",
    "        'od_wait':trial.suggest_int('od_wait', 100, 2300),\n",
    "        'learning_rate' : trial.suggest_uniform('learning_rate',0.01, 1),\n",
    "        'reg_lambda': trial.suggest_uniform('reg_lambda',1e-5,100),\n",
    "        'subsample': trial.suggest_uniform('subsample',0,1),\n",
    "        'random_strength': trial.suggest_uniform('random_strength',10,50),\n",
    "        'depth': trial.suggest_int('depth',1, 15),\n",
    "        'min_data_in_leaf': trial.suggest_int('min_data_in_leaf',1,30),\n",
    "        'leaf_estimation_iterations': trial.suggest_int('leaf_estimation_iterations',1,15),\n",
    "        'bagging_temperature' :trial.suggest_loguniform('bagging_temperature', 0.01, 100.00),\n",
    "        'colsample_bylevel':trial.suggest_float('colsample_bylevel', 0.4, 1.0),\n",
    "    }\n",
    "\n",
    "    # Generate model\n",
    "    model_cbrm = CatBoostRegressor(**cbrm_param)\n",
    "    model_cbrm = model_cbrm.fit(X_train_scaled, y_train, verbose=0)\n",
    "                           \n",
    "\t# 평가지표 원하는 평가 지표가 있을 시 바꾸어 준다.\n",
    "    MSE = mean_squared_error(y_test, model_cbrm.predict(X_test_scaled))\n",
    "    return MSE\n",
    "\n",
    "optuna_cbrm = optuna.create_study(direction='minimize', sampler=sampler)\n",
    "optuna_cbrm.optimize(objective, n_trials=100)"
   ]
  },
  {
   "cell_type": "code",
   "execution_count": null,
   "id": "da0c8218",
   "metadata": {},
   "outputs": [],
   "source": [
    "cbrm_trial = optuna_cbrm.best_trial\n",
    "cbrm_trial_params = cbrm_trial.params\n",
    "print('Best Trial: score {},\\nparams {}'.format(cbrm_trial.value, cbrm_trial_params))"
   ]
  },
  {
   "cell_type": "code",
   "execution_count": null,
   "id": "0d863676",
   "metadata": {},
   "outputs": [],
   "source": [
    "cbrm_trial_params"
   ]
  },
  {
   "cell_type": "code",
   "execution_count": null,
   "id": "b7881d0a",
   "metadata": {},
   "outputs": [],
   "source": [
    "# Modeling fit\n",
    "cbrm_optuna = CatBoostRegressor(**cbrm_trial_params)\n",
    "cbrm_study = cbrm_optuna.fit(X_train_scaled, y_train, verbose=1)\n",
    "\n",
    "# Predict the y_test\n",
    "y_predict = cbrm_study.predict(X_test_scaled)\n",
    "y_train_pred = cbrm_study.predict(X_train_scaled)"
   ]
  },
  {
   "cell_type": "markdown",
   "id": "57157b20",
   "metadata": {},
   "source": [
    "## Model"
   ]
  },
  {
   "cell_type": "code",
   "execution_count": null,
   "id": "e456d606",
   "metadata": {
    "ExecuteTime": {
     "end_time": "2023-07-05T05:18:40.842776Z",
     "start_time": "2023-07-05T05:15:05.179204Z"
    }
   },
   "outputs": [],
   "source": [
    "from catboost import CatBoostRegressor\n",
    "from sklearn.metrics import mean_squared_error\n",
    "\n",
    "# CatBoost 회귀 모델 생성\n",
    "cbrm = CatBoostRegressor(**cbrm_param)\n",
    "\n",
    "cbrm_study = cbrm.fit(X_train_scaled, y_train, verbose=1)\n",
    "\n",
    "# 테스트 데이터 예측\n",
    "y_predict = cbrm_study.predict(X_test_scaled)\n",
    "y_train_pred = cbrm_study.predict(X_train_scaled)\n",
    "\n",
    "# 평균 제곱근 오차(RMSE) 계산\n",
    "mse = mean_squared_error(y_test, y_predict)\n",
    "rmse = np.sqrt(mse)\n",
    "\n",
    "print(\"Root Mean Squared Error (RMSE):\", rmse)"
   ]
  },
  {
   "cell_type": "code",
   "execution_count": null,
   "id": "2ac31232",
   "metadata": {
    "ExecuteTime": {
     "end_time": "2023-07-05T05:18:44.279198Z",
     "start_time": "2023-07-05T05:18:44.249280Z"
    }
   },
   "outputs": [],
   "source": [
    "from sklearn.metrics import mean_absolute_error\n",
    "mae = mean_absolute_error(y_test, y_predict)\n",
    "mae2 = mean_absolute_error(y_train, y_train_pred)\n",
    "\n",
    "print('test: ', mae, ' train: ', mae2)"
   ]
  },
  {
   "cell_type": "code",
   "execution_count": null,
   "id": "240c82cb",
   "metadata": {
    "ExecuteTime": {
     "end_time": "2023-07-05T05:19:01.976027Z",
     "start_time": "2023-07-05T05:19:01.431779Z"
    }
   },
   "outputs": [],
   "source": [
    "mae_r2_plot(y_test, y_predict)"
   ]
  },
  {
   "cell_type": "markdown",
   "id": "907b11b8",
   "metadata": {},
   "source": [
    "## 확인 및 시각화"
   ]
  },
  {
   "cell_type": "code",
   "execution_count": null,
   "id": "e5a51768",
   "metadata": {
    "ExecuteTime": {
     "end_time": "2023-07-04T08:47:25.016814Z",
     "start_time": "2023-07-04T08:47:24.991882Z"
    }
   },
   "outputs": [],
   "source": [
    "from sklearn.metrics import mean_absolute_error\n",
    "mae = mean_absolute_error(y_test, y_predict)\n",
    "mae2 = mean_absolute_error(y_train, y_train_pred)\n",
    "\n",
    "print(mae, mae2)\n",
    "\n",
    "# 평균 제곱근 오차(RMSE) 계산\n",
    "mse = mean_squared_error(y_test, y_predict)\n",
    "rmse = np.sqrt(mse)\n",
    "print('\\n', mse, rmse)"
   ]
  },
  {
   "cell_type": "code",
   "execution_count": null,
   "id": "25605ca7",
   "metadata": {
    "ExecuteTime": {
     "end_time": "2023-07-04T08:47:33.813614Z",
     "start_time": "2023-07-04T08:47:33.518654Z"
    }
   },
   "outputs": [],
   "source": [
    "mae_r2_plot(y_test, y_predict)"
   ]
  },
  {
   "cell_type": "code",
   "execution_count": null,
   "id": "582befac",
   "metadata": {
    "ExecuteTime": {
     "end_time": "2023-07-04T08:47:49.763333Z",
     "start_time": "2023-07-04T08:47:44.284359Z"
    }
   },
   "outputs": [],
   "source": [
    "optuna.visualization.plot_param_importances(optuna_cbrm) # 파라미터 중요도 확인 그래프"
   ]
  },
  {
   "cell_type": "code",
   "execution_count": null,
   "id": "8fb2a8b3",
   "metadata": {
    "ExecuteTime": {
     "end_time": "2023-07-04T08:47:50.512688Z",
     "start_time": "2023-07-04T08:47:50.459532Z"
    }
   },
   "outputs": [],
   "source": [
    "optuna.visualization.plot_optimization_history(optuna_cbrm) # 최적화 과정 시각화"
   ]
  },
  {
   "cell_type": "code",
   "execution_count": null,
   "id": "b3536fab",
   "metadata": {
    "ExecuteTime": {
     "end_time": "2023-07-04T08:51:49.252524Z",
     "start_time": "2023-07-04T08:51:48.894696Z"
    }
   },
   "outputs": [],
   "source": [
    "import warnings\n",
    "warnings.simplefilter(action='ignore', category=FutureWarning)\n",
    "plt.rc('font', family='Malgun Gothic')\n",
    "\n",
    "feature_imp = pd.DataFrame(sorted(zip(cbrm_optuna.feature_importances_,X.columns)), columns=['Value','Feature'])\n",
    "\n",
    "plt.figure(figsize=(20, 12))\n",
    "sns.barplot(x=\"Value\", y=\"Feature\", data=feature_imp.sort_values(by=\"Value\", ascending=False)[:15])\n",
    "# plt.title('LightGBM Feature importances')\n",
    "plt.tight_layout()\n",
    "plt.show()"
   ]
  }
 ],
 "metadata": {
  "kernelspec": {
   "display_name": "Python 3 (ipykernel)",
   "language": "python",
   "name": "python3"
  },
  "language_info": {
   "codemirror_mode": {
    "name": "ipython",
    "version": 3
   },
   "file_extension": ".py",
   "mimetype": "text/x-python",
   "name": "python",
   "nbconvert_exporter": "python",
   "pygments_lexer": "ipython3",
   "version": "3.9.7"
  },
  "toc": {
   "base_numbering": 1,
   "nav_menu": {},
   "number_sections": true,
   "sideBar": true,
   "skip_h1_title": false,
   "title_cell": "Table of Contents",
   "title_sidebar": "Contents",
   "toc_cell": false,
   "toc_position": {},
   "toc_section_display": true,
   "toc_window_display": false
  },
  "varInspector": {
   "cols": {
    "lenName": 16,
    "lenType": 16,
    "lenVar": 40
   },
   "kernels_config": {
    "python": {
     "delete_cmd_postfix": "",
     "delete_cmd_prefix": "del ",
     "library": "var_list.py",
     "varRefreshCmd": "print(var_dic_list())"
    },
    "r": {
     "delete_cmd_postfix": ") ",
     "delete_cmd_prefix": "rm(",
     "library": "var_list.r",
     "varRefreshCmd": "cat(var_dic_list()) "
    }
   },
   "types_to_exclude": [
    "module",
    "function",
    "builtin_function_or_method",
    "instance",
    "_Feature"
   ],
   "window_display": false
  }
 },
 "nbformat": 4,
 "nbformat_minor": 5
}
