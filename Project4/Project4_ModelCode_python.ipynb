{
 "cells": [
  {
   "cell_type": "code",
   "execution_count": null,
   "id": "9a5a3dac",
   "metadata": {
    "ExecuteTime": {
     "end_time": "2023-06-06T09:39:44.971428Z",
     "start_time": "2023-06-06T09:39:39.933441Z"
    }
   },
   "outputs": [],
   "source": [
    "import numpy as np # linear algebra\n",
    "import pandas as pd # data processing, CSV file I/O (e.g. pd.read_csv)\n",
    "import matplotlib.pyplot as plt\n",
    "import seaborn as sns\n",
    "from sklearn.linear_model import LinearRegression\n",
    "import os\n",
    "from sklearn import metrics\n"
   ]
  },
  {
   "cell_type": "code",
   "execution_count": null,
   "id": "d91127f2",
   "metadata": {
    "ExecuteTime": {
     "end_time": "2023-06-02T05:59:37.360132Z",
     "start_time": "2023-06-02T05:59:37.257923Z"
    }
   },
   "outputs": [],
   "source": [
    "#데이터 불러오기\n",
    "data = pd.read_csv(r'2021_2022_분석_데이터_범주형.csv')"
   ]
  },
  {
   "cell_type": "markdown",
   "id": "04ef4fb0",
   "metadata": {},
   "source": [
    "# 전처리"
   ]
  },
  {
   "cell_type": "code",
   "execution_count": null,
   "id": "b0bc7243",
   "metadata": {
    "ExecuteTime": {
     "end_time": "2023-06-02T05:59:38.844855Z",
     "start_time": "2023-06-02T05:59:38.808572Z"
    }
   },
   "outputs": [],
   "source": [
    "data.loc[data['PM10'] <= 30.0, 'PM10_category'] = 0\n",
    "data.loc[(data['PM10'] > 30.0) & (data['PM10'] <= 80.0), 'PM10_category'] = 1\n",
    "data.loc[(data['PM10'] > 80.0) & (data['PM10'] <= 150.0), 'PM10_category'] = 2\n",
    "data.loc[(data['PM10'] > 150.0), 'PM10_category'] = 3\n",
    "\n",
    "data = data.set_index('일시')\n",
    "data = data.drop(['PM2.5','PM10'], axis = 1)\n",
    "data = data.apply(pd.to_numeric, errors='coerce')\n",
    "\n",
    "# data.head()"
   ]
  },
  {
   "cell_type": "code",
   "execution_count": null,
   "id": "a1213e88",
   "metadata": {
    "ExecuteTime": {
     "end_time": "2023-06-02T05:59:39.941012Z",
     "start_time": "2023-06-02T05:59:39.918075Z"
    }
   },
   "outputs": [],
   "source": [
    "#악성 양성 차이\n",
    "data['PM10_category'].value_counts()"
   ]
  },
  {
   "cell_type": "code",
   "execution_count": null,
   "id": "ac81ae26",
   "metadata": {
    "ExecuteTime": {
     "end_time": "2023-06-02T05:59:40.739134Z",
     "start_time": "2023-06-02T05:59:40.566241Z"
    }
   },
   "outputs": [],
   "source": [
    "#Visualization\n",
    "sns.countplot(x=\"PM10_category\", data=data)\n",
    "plt.show()"
   ]
  },
  {
   "cell_type": "code",
   "execution_count": null,
   "id": "7991380a",
   "metadata": {
    "ExecuteTime": {
     "end_time": "2023-06-02T05:59:41.367950Z",
     "start_time": "2023-06-02T05:59:41.360008Z"
    }
   },
   "outputs": [],
   "source": [
    "data1 = data"
   ]
  },
  {
   "cell_type": "code",
   "execution_count": null,
   "id": "f968ee26",
   "metadata": {
    "ExecuteTime": {
     "end_time": "2023-06-02T05:59:42.610951Z",
     "start_time": "2023-06-02T05:59:42.573464Z"
    }
   },
   "outputs": [],
   "source": [
    "#X,y 정하기\n",
    "y = data1['PM10_category']\n",
    "X = data1.drop('PM10_category', axis=1)\n",
    "\n",
    "#train, test 분류. test_size=0.2\n",
    "from sklearn.model_selection import train_test_split\n",
    "X_train, X_test, y_train, y_test=train_test_split(X,y,test_size=0.2, shuffle = False)\n",
    "\n",
    "#표준화\n",
    "from sklearn.preprocessing import StandardScaler\n",
    "sc=StandardScaler()\n",
    "sc.fit(X_train)\n",
    "X_train_std=sc.transform(X_train)\n",
    "X_test_std=sc.transform(X_test)"
   ]
  },
  {
   "cell_type": "markdown",
   "id": "754f6999",
   "metadata": {},
   "source": [
    "# 로지스틱 회귀"
   ]
  },
  {
   "cell_type": "code",
   "execution_count": null,
   "id": "3b91926c",
   "metadata": {
    "ExecuteTime": {
     "end_time": "2023-05-30T05:37:32.890608Z",
     "start_time": "2023-05-30T05:37:25.398847Z"
    }
   },
   "outputs": [],
   "source": [
    "#그리드 써치\n",
    "from sklearn.model_selection import GridSearchCV\n",
    "from sklearn.linear_model import LogisticRegression\n",
    "lr = LogisticRegression()\n",
    "param_grid = {'C':[1.0, 10, 50, 100], 'max_iter':[100,200,300,400]}\n",
    "grid = GridSearchCV(lr, param_grid=param_grid, cv=10, refit=True)\n",
    "grid.fit(X_train_std, y_train)\n",
    "\n",
    "\n",
    "test_score = grid.score(X_test_std, y_test)\n",
    "print(\"Test set 점수: {}\".format( test_score ))\n",
    "train_score = grid.score(X_train_std, y_train)\n",
    "print(\"Train set 점수: {}\".format(train_score))\n",
    "print(\"최적 매개변수: {}\".format(grid.best_params_))\n",
    "print(\"최고 교차 검증 점수: {}\".format(grid.best_score_))"
   ]
  },
  {
   "cell_type": "code",
   "execution_count": null,
   "id": "eb6ff257",
   "metadata": {
    "ExecuteTime": {
     "end_time": "2023-05-30T05:37:41.218203Z",
     "start_time": "2023-05-30T05:37:39.682815Z"
    }
   },
   "outputs": [],
   "source": [
    "Logit=LogisticRegression(C=10,max_iter=300) # \n",
    "Logit.fit(X_train_std,y_train)\n",
    "y_train_pred=Logit.predict(X_train_std)\n",
    "y_test_pred=Logit.predict(X_test_std)\n",
    "\n",
    "from sklearn import metrics\n",
    "print('Train : ', round(metrics.accuracy_score(y_train,y_train_pred),3))\n",
    "print('Test : ', round(metrics.accuracy_score(y_test,y_test_pred),3))"
   ]
  },
  {
   "cell_type": "code",
   "execution_count": null,
   "id": "3f327726",
   "metadata": {
    "ExecuteTime": {
     "end_time": "2023-05-30T05:47:12.394835Z",
     "start_time": "2023-05-30T05:47:12.367631Z"
    }
   },
   "outputs": [],
   "source": [
    "print('좋음으로 잘 분류된 확률>> ', round(y_train.value_counts()[0]/pd.Series(y_train_pred).value_counts()[0],3), '\\n',\n",
    "      '보통으로 잘 분류된 확률>> ', round(y_train.value_counts()[1]/pd.Series(y_train_pred).value_counts()[1],3), '\\n', \n",
    "      '나쁨으로 잘 분류된 확률>> ', round(y_train.value_counts()[2]/pd.Series(y_train_pred).value_counts()[2],3))"
   ]
  },
  {
   "cell_type": "code",
   "execution_count": null,
   "id": "5a4dd05b",
   "metadata": {
    "ExecuteTime": {
     "end_time": "2023-05-25T11:30:57.957605Z",
     "start_time": "2023-05-25T11:30:57.935664Z"
    }
   },
   "outputs": [],
   "source": [
    "#confusion matrix\n",
    "print(metrics.confusion_matrix(y_test,y_test_pred))"
   ]
  },
  {
   "cell_type": "markdown",
   "id": "22e5ad5d",
   "metadata": {},
   "source": [
    "# KNN"
   ]
  },
  {
   "cell_type": "code",
   "execution_count": null,
   "id": "ebb23451",
   "metadata": {
    "ExecuteTime": {
     "end_time": "2023-05-25T11:33:44.398900Z",
     "start_time": "2023-05-25T11:33:27.573972Z"
    }
   },
   "outputs": [],
   "source": [
    "#그리드써치\n",
    "from sklearn.neighbors import KNeighborsClassifier\n",
    "knn = KNeighborsClassifier()\n",
    "param_grid = {'n_neighbors':[4,5,6,7]}\n",
    "grid = GridSearchCV(knn, param_grid=param_grid, cv=10, refit=True)\n",
    "grid.fit(X_train, y_train)\n",
    "\n",
    "\n",
    "test_score = grid.score(X_test, y_test)\n",
    "print(\"시험 set 점수: {}\".format( test_score ))\n",
    "train_score = grid.score(X_train, y_train)\n",
    "print(\"학습 set 점수: {}\".format(train_score))\n",
    "print(\"최적 매개변수: {}\".format(grid.best_params_))\n",
    "print(\"최고 교차 검증 점수: {}\".format(grid.best_score_))"
   ]
  },
  {
   "cell_type": "code",
   "execution_count": null,
   "id": "0dd6ad63",
   "metadata": {
    "ExecuteTime": {
     "end_time": "2023-05-25T11:38:35.071655Z",
     "start_time": "2023-05-25T11:38:29.592434Z"
    }
   },
   "outputs": [],
   "source": [
    "knn=KNeighborsClassifier(n_neighbors=7,p=2)\n",
    "knn.fit(X_train,y_train)\n",
    "y_train_pred=knn.predict(X_train)\n",
    "y_test_pred=knn.predict(X_test)\n",
    "\n",
    "#정확도 출력\n",
    "from sklearn import metrics\n",
    "\n",
    "print('Train : ', round(metrics.accuracy_score(y_train,y_train_pred),3))\n",
    "print('Test : ', round(metrics.accuracy_score(y_test,y_test_pred),3))"
   ]
  },
  {
   "cell_type": "code",
   "execution_count": null,
   "id": "47b1c518",
   "metadata": {
    "ExecuteTime": {
     "end_time": "2023-05-25T11:38:46.524496Z",
     "start_time": "2023-05-25T11:38:46.505547Z"
    }
   },
   "outputs": [],
   "source": [
    "#혼동행렬\n",
    "print(metrics.confusion_matrix(y_test,y_test_pred))"
   ]
  },
  {
   "cell_type": "markdown",
   "id": "45fcb45d",
   "metadata": {},
   "source": [
    "# decisionTree"
   ]
  },
  {
   "cell_type": "code",
   "execution_count": null,
   "id": "0dd00792",
   "metadata": {
    "ExecuteTime": {
     "end_time": "2023-05-25T12:06:54.340635Z",
     "start_time": "2023-05-25T12:06:54.329680Z"
    }
   },
   "outputs": [],
   "source": [
    "#그리드 써치\n",
    "from sklearn.model_selection import GridSearchCV\n",
    "from sklearn import tree\n",
    "dtc = tree.DecisionTreeClassifier()"
   ]
  },
  {
   "cell_type": "code",
   "execution_count": null,
   "id": "91fd101b",
   "metadata": {
    "ExecuteTime": {
     "end_time": "2023-05-25T12:22:05.023252Z",
     "start_time": "2023-05-25T12:19:56.896965Z"
    }
   },
   "outputs": [],
   "source": [
    "param_grid = {'criterion':['gini','entropy'], 'max_depth':[None,2,3,4,5,6], 'min_samples_split':[2,3,4,5,6], \n",
    "              'min_samples_leaf':[1,2,3]}\n",
    "grid = GridSearchCV(dtc, param_grid=param_grid, cv=10, refit=True)\n",
    "grid.fit(X_train_std, y_train)\n",
    "\n",
    "test_score = grid.score(X_test_std, y_test)\n",
    "print(\"시험 set 점수: {}\".format( test_score ))\n",
    "train_score = grid.score(X_train_std, y_train)\n",
    "print(\"학습 set 점수: {}\".format(train_score))\n",
    "print(\"최적 매개변수: {}\".format(grid.best_params_))\n",
    "print(\"최고 교차 검증 점수: {}\".format(grid.best_score_))"
   ]
  },
  {
   "cell_type": "code",
   "execution_count": null,
   "id": "ca4286f1",
   "metadata": {
    "ExecuteTime": {
     "end_time": "2023-05-25T12:23:03.427604Z",
     "start_time": "2023-05-25T12:23:03.361099Z"
    }
   },
   "outputs": [],
   "source": [
    "from sklearn import tree\n",
    "dtc=tree.DecisionTreeClassifier(criterion='entropy',max_depth=3,min_samples_leaf=3,min_samples_split=4,random_state=1)\n",
    "result=dtc.fit(X_train_std,y_train)\n",
    "y_train_pred=dtc.predict(X_train_std)\n",
    "y_test_pred=dtc.predict(X_test_std)\n",
    "\n",
    "#정확도 출력\n",
    "print('Train : ', round(metrics.accuracy_score(y_train,y_train_pred),3))\n",
    "print('Test : ', round(metrics.accuracy_score(y_test,y_test_pred),3))"
   ]
  },
  {
   "cell_type": "code",
   "execution_count": null,
   "id": "53f58a7e",
   "metadata": {
    "scrolled": true
   },
   "outputs": [],
   "source": [
    "#confusion matrix\n",
    "print(metrics.confusion_matrix(y_test,y_test_pred))"
   ]
  },
  {
   "cell_type": "code",
   "execution_count": null,
   "id": "7c06c17d",
   "metadata": {},
   "outputs": [],
   "source": [
    "from pydotplus import graph_from_dot_data\n",
    "from sklearn.tree import export_graphviz\n",
    "dot_data=export_graphviz(dtc, filled=True, rounded=True, class_names=['B','M'],\n",
    "                         feature_names=['radius_mean','texture_mean','smoothness_mean','compactness_mean','concavity_mean',\n",
    "                                        'symmetry_mean','fractal_dimension_mean','radius_se','texture_se','smoothness_se',\n",
    "                                        'compactness_se','concavity_se','concave points_se','symmetry_se','fractal_dimension_se',\n",
    "                                       'smoothness_worst','compactness_worst','concavity_worst','symmetry_worst','fractal_dimension_worst'],\n",
    "                         out_file=None)\n",
    "graph=graph_from_dot_data(dot_data)\n",
    "graph.write_png('tree.png')"
   ]
  },
  {
   "cell_type": "code",
   "execution_count": null,
   "id": "ae6efa83",
   "metadata": {
    "ExecuteTime": {
     "end_time": "2023-05-25T11:54:16.263483Z",
     "start_time": "2023-05-25T11:54:16.241543Z"
    }
   },
   "outputs": [],
   "source": [
    "from IPython.display import Image\n",
    "Image(graph.create_png())"
   ]
  },
  {
   "cell_type": "markdown",
   "id": "ddf8bf74",
   "metadata": {},
   "source": [
    "# SVM "
   ]
  },
  {
   "cell_type": "code",
   "execution_count": null,
   "id": "9edd733d",
   "metadata": {
    "ExecuteTime": {
     "end_time": "2023-05-31T07:00:37.555311Z",
     "start_time": "2023-05-31T07:00:37.544337Z"
    }
   },
   "outputs": [],
   "source": [
    "y = data1['PM10_category']\n",
    "X = data1.drop('PM10_category', axis=1)"
   ]
  },
  {
   "cell_type": "code",
   "execution_count": null,
   "id": "bb1d35e9",
   "metadata": {
    "ExecuteTime": {
     "end_time": "2023-05-31T07:01:28.350742Z",
     "start_time": "2023-05-31T07:01:28.277236Z"
    }
   },
   "outputs": [],
   "source": [
    "from sklearn.decomposition import PCA\n",
    "pca = PCA(n_components=2) # 주성분을 몇개로 할지 결정\n",
    "printcipalComponents = pca.fit_transform(X)\n",
    "principalDf = pd.DataFrame(data=printcipalComponents, columns = ['principal component1', 'principal component2'])\n",
    "# 주성분으로 이루어진 데이터 프레임 구성\n",
    "print(pca.explained_variance_ratio_, sum(pca.explained_variance_ratio_))"
   ]
  },
  {
   "cell_type": "code",
   "execution_count": null,
   "id": "03627fd9",
   "metadata": {
    "ExecuteTime": {
     "end_time": "2023-05-31T07:01:57.616789Z",
     "start_time": "2023-05-31T07:01:57.604822Z"
    }
   },
   "outputs": [],
   "source": [
    "#SVM\n",
    "from sklearn.model_selection import train_test_split\n",
    "\n",
    "from sklearn.model_selection import GridSearchCV\n",
    "from sklearn.svm import SVC\n",
    "#train, test 분류. test_size=0.2\n",
    "X_train, X_test, y_train, y_test=train_test_split(printcipalComponents,y,test_size=0.2, shuffle = False)"
   ]
  },
  {
   "cell_type": "code",
   "execution_count": null,
   "id": "5187abb7",
   "metadata": {
    "ExecuteTime": {
     "end_time": "2023-05-31T07:02:10.796927Z",
     "start_time": "2023-05-31T07:02:10.776980Z"
    }
   },
   "outputs": [],
   "source": [
    "#표준화\n",
    "from sklearn.preprocessing import StandardScaler\n",
    "sc=StandardScaler()\n",
    "sc.fit(X_train)\n",
    "X_train_std=sc.transform(X_train)\n",
    "X_test_std=sc.transform(X_test)"
   ]
  },
  {
   "cell_type": "code",
   "execution_count": null,
   "id": "cb195525",
   "metadata": {
    "ExecuteTime": {
     "end_time": "2023-05-31T07:02:18.741698Z",
     "start_time": "2023-05-31T07:02:11.531442Z"
    }
   },
   "outputs": [],
   "source": [
    "#그리드 써치\n",
    "#매개변수\n",
    "param_grid = {'C': [0.01, 0.1, 1, 10],\n",
    "             'gamma': [0.01, 0.1, 1, 10] }\n",
    "\n",
    "svm = SVC()\n",
    "grid_ksvm = GridSearchCV(SVC(kernel='rbf'), param_grid, cv=10, return_train_score=True)\n",
    "grid_ksvm.fit(X_train_std, y_train)"
   ]
  },
  {
   "cell_type": "code",
   "execution_count": null,
   "id": "95706139",
   "metadata": {},
   "outputs": [],
   "source": [
    "# 테스트 세트 점수\n",
    "test_score = grid_ksvm.score(X_test_std, y_test)\n",
    "print(\"시험 set 점수: {}\".format( test_score ))\n",
    "train_score = grid_ksvm.score(X_train_std, y_train)\n",
    "print(\"학습 set 점수: {}\".format(train_score))\n",
    "print(\"최적 매개변수: {}\".format(grid_ksvm.best_params_))\n",
    "print(\"최고 교차 검증 점수: {}\".format(grid_ksvm.best_score_))"
   ]
  },
  {
   "cell_type": "code",
   "execution_count": null,
   "id": "a6c226c7",
   "metadata": {
    "ExecuteTime": {
     "start_time": "2023-05-31T07:02:29.966Z"
    },
    "scrolled": false
   },
   "outputs": [],
   "source": [
    "a = [0.1, 1, 10]\n",
    "for i in a:\n",
    "    ksvm=SVC(kernel='poly', C=i, gamma=5)\n",
    "    ksvm.fit(X_train_std,y_train)\n",
    "    y_train_pred=ksvm.predict(X_train_std)\n",
    "    y_test_pred=ksvm.predict(X_test_std)\n",
    "    #정확도\n",
    "    from sklearn import metrics\n",
    "    print('\\n\\n', i, 5, '')\n",
    "    print('Train : ', round(metrics.accuracy_score(y_train,y_train_pred),3))\n",
    "    print('Test : ', round(metrics.accuracy_score(y_test,y_test_pred),3))"
   ]
  },
  {
   "cell_type": "code",
   "execution_count": null,
   "id": "9d2d9f5d",
   "metadata": {
    "ExecuteTime": {
     "end_time": "2023-05-30T05:51:23.216874Z",
     "start_time": "2023-05-30T05:51:23.207135Z"
    }
   },
   "outputs": [],
   "source": [
    "print(y_train.value_counts(),'\\n\\n', pd.Series(y_train_pred).value_counts())"
   ]
  },
  {
   "cell_type": "code",
   "execution_count": null,
   "id": "19c01d5a",
   "metadata": {
    "ExecuteTime": {
     "end_time": "2023-05-26T01:27:59.201708Z",
     "start_time": "2023-05-26T01:27:59.177775Z"
    },
    "scrolled": true
   },
   "outputs": [],
   "source": [
    "#confusion matrix\n",
    "print(metrics.confusion_matrix(y_test,y_test_pred))"
   ]
  },
  {
   "cell_type": "markdown",
   "id": "c46d7535",
   "metadata": {},
   "source": [
    "# 앙상블"
   ]
  },
  {
   "cell_type": "code",
   "execution_count": null,
   "id": "d9ba7377",
   "metadata": {
    "ExecuteTime": {
     "end_time": "2023-06-02T01:49:12.336426Z",
     "start_time": "2023-06-02T01:49:12.316481Z"
    }
   },
   "outputs": [],
   "source": [
    "#train, test 분류. test_size=0.2\n",
    "from sklearn.model_selection import train_test_split\n",
    "X_train, X_test, y_train, y_test=train_test_split(X,y,test_size=0.2, shuffle = False)"
   ]
  },
  {
   "cell_type": "markdown",
   "id": "da8df9a1",
   "metadata": {},
   "source": [
    "# Random Forest"
   ]
  },
  {
   "cell_type": "code",
   "execution_count": null,
   "id": "a40b7f3f",
   "metadata": {
    "ExecuteTime": {
     "end_time": "2023-06-02T01:49:43.979256Z",
     "start_time": "2023-06-02T01:49:43.742877Z"
    }
   },
   "outputs": [],
   "source": [
    "#grid search\n",
    "from sklearn.ensemble import RandomForestClassifier\n",
    "# param_grid = {'max_depth': [1,2,3,4,5,6],\n",
    "#              'min_samples_leaf': [2,3,4,5],'min_samples_split':[2,3,4,5] }\n",
    "rf = RandomForestClassifier()\n",
    "# grid_rf = GridSearchCV(rf, param_grid, cv=10)\n",
    "# grid_rf.fit(X_train, y_train)"
   ]
  },
  {
   "cell_type": "code",
   "execution_count": null,
   "id": "65b78f16",
   "metadata": {},
   "outputs": [],
   "source": [
    "print(\"최적 매개변수: {}\".format(grid_rf.best_params_))"
   ]
  },
  {
   "cell_type": "code",
   "execution_count": null,
   "id": "89b30377",
   "metadata": {
    "ExecuteTime": {
     "end_time": "2023-06-02T02:06:48.479444Z",
     "start_time": "2023-06-02T02:06:48.466479Z"
    }
   },
   "outputs": [],
   "source": [
    "aa = i, j, k;aa"
   ]
  },
  {
   "cell_type": "code",
   "execution_count": null,
   "id": "9f052158",
   "metadata": {
    "ExecuteTime": {
     "end_time": "2023-06-02T02:10:54.163765Z",
     "start_time": "2023-06-02T02:10:52.415041Z"
    }
   },
   "outputs": [],
   "source": [
    "aa = []\n",
    "bb = []\n",
    "cc = []\n",
    "df_traintest = ({'index':[]}, {'Train':[]}, {'Test':[]})\n",
    "for l in [100,150,200, 250]:\n",
    "    for i in [6, 7, 8, 9, 10]:\n",
    "        for j in [2,3,4,5]:\n",
    "            for k in [2,3,4,5]:\n",
    "                rf = RandomForestClassifier()\n",
    "                rf = RandomForestClassifier(n_estimators = l, max_depth=i,min_samples_leaf=j,min_samples_split=k)\n",
    "                rf.fit(X_train_std,y_train)\n",
    "                y_train_pred=rf.predict(X_train_std)\n",
    "                y_test_pred=rf.predict(X_test_std)\n",
    "                from sklearn import metrics\n",
    "                print(l, i, j, k)\n",
    "                aa = list[l, i, j, k]\n",
    "                print(metrics.accuracy_score(y_train,y_train_pred)) #train data에 대한 accuracy\n",
    "                bb = metrics.accuracy_score(y_train,y_train_pred)\n",
    "                print(metrics.accuracy_score(y_test,y_test_pred))  #test data에 대한 accuracy\n",
    "                cc = metrics.accuracy_score(y_test,y_test_pred)\n",
    "                df_traintest.append(aa, bb, cc)\n",
    "print(df_traintest)"
   ]
  },
  {
   "cell_type": "code",
   "execution_count": null,
   "id": "9d83b24f",
   "metadata": {
    "ExecuteTime": {
     "end_time": "2023-06-02T02:17:55.968722Z",
     "start_time": "2023-06-02T02:13:02.774379Z"
    }
   },
   "outputs": [],
   "source": [
    "aa = []\n",
    "bb = []\n",
    "cc = []\n",
    "df_traintest = {'index':[], 'Train':[], 'Test':[]}\n",
    "\n",
    "for i in [6, 7, 8, 9, 10]:\n",
    "    for j in [2, 3, 4, 5]:\n",
    "        for k in [2, 3, 4, 5]:\n",
    "            rf = RandomForestClassifier(n_estimators=200, max_depth=i, min_samples_leaf=j, min_samples_split=k)\n",
    "            rf.fit(X_train_std, y_train)\n",
    "            y_train_pred = rf.predict(X_train_std)\n",
    "            y_test_pred = rf.predict(X_test_std)\n",
    "            from sklearn import metrics\n",
    "            print(200, i, j, k)\n",
    "            aa.append('200, {0}, {1}, {2}'.format(i, j, k))\n",
    "            print(metrics.accuracy_score(y_train, y_train_pred))  # train data에 대한 accuracy\n",
    "            bb.append(metrics.accuracy_score(y_train, y_train_pred))\n",
    "            print(metrics.accuracy_score(y_test, y_test_pred))  # test data에 대한 accuracy\n",
    "            cc.append(metrics.accuracy_score(y_test, y_test_pred))"
   ]
  },
  {
   "cell_type": "code",
   "execution_count": null,
   "id": "4abf74b7",
   "metadata": {
    "ExecuteTime": {
     "end_time": "2023-06-02T02:48:11.101343Z",
     "start_time": "2023-06-02T02:48:11.092399Z"
    },
    "scrolled": true
   },
   "outputs": [],
   "source": [
    "df_traintest['index'] = aa\n",
    "df_traintest['Train'] = bb\n",
    "df_traintest['Test'] = cc\n",
    "df_traintest = df_traintest.set_index('index')\n",
    "\n",
    "aa_randomforest = aa\n",
    "bb_randomforest = bb\n",
    "cc_randomforest = cc\n",
    "df_traintest_randomforest = df_traintest\n",
    "\n",
    "df_traintest"
   ]
  },
  {
   "cell_type": "code",
   "execution_count": null,
   "id": "23ca6fea",
   "metadata": {
    "ExecuteTime": {
     "end_time": "2023-06-02T04:06:49.945531Z",
     "start_time": "2023-06-02T04:06:49.488999Z"
    }
   },
   "outputs": [],
   "source": [
    "plt.rc('font', family='Malgun Gothic')\n",
    "\n",
    "df1 = pd.DataFrame(df_traintest['Train'])\n",
    "df2 = pd.DataFrame(df_traintest['Test'])\n",
    "df2 = df2.set_index(df1.index)\n",
    "\n",
    "result = pd.concat([df1, df2], axis=1)\n",
    "result.columns = ['Train', 'Test']\n",
    "\n",
    "result['Train'].plot(figsize=(40, 16), alpha=1.0)\n",
    "result['Test'].plot(figsize=(40, 16), alpha=1.0)\n",
    "plt.legend(fontsize=30)\n",
    "plt.title(\"RandomForest\", size = 30)\n",
    "plt.xlabel(\"\\n하이퍼파라미터\", size = 25)\n",
    "plt.ylabel(\"정확도\", size = 25)\n",
    "plt.tick_params(axis='x', labelsize=17)\n",
    "plt.tick_params(axis='y', labelsize=17)\n",
    "plt.show()"
   ]
  },
  {
   "cell_type": "markdown",
   "id": "9a8e5c2c",
   "metadata": {},
   "source": [
    "# Adaboost"
   ]
  },
  {
   "cell_type": "code",
   "execution_count": null,
   "id": "a9111b13",
   "metadata": {
    "ExecuteTime": {
     "end_time": "2023-06-02T04:10:44.796752Z",
     "start_time": "2023-06-02T04:10:44.782787Z"
    }
   },
   "outputs": [],
   "source": [
    "#그리드써치\n",
    "from sklearn.ensemble import AdaBoostClassifier\n",
    "\n",
    "abc=AdaBoostClassifier()\n",
    "# param_grid={'n_estimators':[50,80,100,200],'learning_rate':[0.01,0.1,1.0]}\n",
    "\n",
    "# grid_abc = GridSearchCV(abc, param_grid, cv=10)\n",
    "\n",
    "# grid_abc.fit(X_train, y_train)\n",
    "# print(\"최적 매개변수: {}\".format(grid_abc.best_params_))"
   ]
  },
  {
   "cell_type": "code",
   "execution_count": null,
   "id": "72e4c9cf",
   "metadata": {
    "ExecuteTime": {
     "end_time": "2023-06-02T04:26:23.170518Z",
     "start_time": "2023-06-02T04:15:11.301900Z"
    }
   },
   "outputs": [],
   "source": [
    "aa = []\n",
    "bb = []\n",
    "cc = []\n",
    "df_traintest = {'index':[], 'Train':[], 'Test':[]}\n",
    "\n",
    "for i in [5, 6, 7, 8, 9]:\n",
    "    for j in [50, 100, 150, 200]:\n",
    "        for k in [0.01, 0.1, 1.0]:\n",
    "            from sklearn.tree import DecisionTreeClassifier\n",
    "            base_model = DecisionTreeClassifier(max_depth = i)\n",
    "            abc = AdaBoostClassifier(base_estimator = base_model,n_estimators = j,learning_rate = k)\n",
    "            abc.fit(X_train_std, y_train)\n",
    "            \n",
    "            y_train_pred=abc.predict(X_train_std)\n",
    "            y_test_pred=abc.predict(X_test_std)\n",
    "            print(i, j, k)\n",
    "            aa.append('{0}, {1}, {2}'.format(i, j, k))\n",
    "\n",
    "            print(metrics.accuracy_score(y_train,y_train_pred)) #train data에 대한 accuracy\n",
    "            bb.append(metrics.accuracy_score(y_train, y_train_pred))\n",
    "\n",
    "            print(metrics.accuracy_score(y_test,y_test_pred))  #test data에 대한 accuracy\n",
    "            cc.append(metrics.accuracy_score(y_test, y_test_pred))\n"
   ]
  },
  {
   "cell_type": "code",
   "execution_count": null,
   "id": "abe7ad00",
   "metadata": {
    "ExecuteTime": {
     "end_time": "2023-06-02T04:39:32.274071Z",
     "start_time": "2023-06-02T04:39:32.251133Z"
    }
   },
   "outputs": [],
   "source": [
    "df_traintest = pd.DataFrame(df_traintest)\n",
    "df_traintest['index'] = aa\n",
    "df_traintest['Train'] = bb\n",
    "df_traintest['Test'] = cc\n",
    "df_traintest = df_traintest.set_index('index')\n",
    "\n",
    "\n",
    "aa_Adaboost = aa\n",
    "bb_Adaboost = bb\n",
    "cc_Adaboost = cc\n",
    "df_traintest_Adaboost = df_traintest\n",
    "\n",
    "df_traintest_Adaboost\n"
   ]
  },
  {
   "cell_type": "code",
   "execution_count": null,
   "id": "2ceb37bd",
   "metadata": {
    "ExecuteTime": {
     "end_time": "2023-06-02T04:39:43.421549Z",
     "start_time": "2023-06-02T04:39:43.046746Z"
    }
   },
   "outputs": [],
   "source": [
    "plt.rc('font', family='Malgun Gothic')\n",
    "\n",
    "df1 = pd.DataFrame(df_traintest['Train'])\n",
    "df2 = pd.DataFrame(df_traintest['Test'])\n",
    "df2 = df2.set_index(df1.index)\n",
    "\n",
    "result = pd.concat([df1, df2], axis=1)\n",
    "result.columns = ['Train', 'Test']\n",
    "\n",
    "result['Train'].plot(figsize=(40, 16), alpha=1.0)\n",
    "result['Test'].plot(figsize=(40, 16), alpha=1.0)\n",
    "plt.legend(fontsize=30)\n",
    "plt.title(\"AdaBoost\", size = 30)\n",
    "plt.xlabel(\"\\n하이퍼파라미터\", size = 25)\n",
    "plt.ylabel(\"정확도\", size = 25)\n",
    "plt.tick_params(axis='x', labelsize=17)\n",
    "plt.tick_params(axis='y', labelsize=17)\n",
    "plt.show()"
   ]
  },
  {
   "cell_type": "markdown",
   "id": "d094d12c",
   "metadata": {},
   "source": [
    "# Gradient Boost"
   ]
  },
  {
   "cell_type": "code",
   "execution_count": null,
   "id": "e442a0d3",
   "metadata": {
    "ExecuteTime": {
     "end_time": "2023-06-02T04:46:04.210409Z",
     "start_time": "2023-06-02T04:46:04.195448Z"
    }
   },
   "outputs": [],
   "source": [
    "#grid search\n",
    "from sklearn.ensemble import GradientBoostingClassifier\n",
    "\n",
    "gbc=GradientBoostingClassifier()\n",
    "# param_grid={'n_estimators':[50,80,100,200],'learning_rate':[0.001, 0.01,0.1,1.0],'max_depth':[2,3,4,5,6,7]}\n",
    "\n",
    "# grid_gbc = GridSearchCV(gbc, param_grid, cv=10)\n",
    "\n",
    "# grid_gbc.fit(X_train, y_train)\n",
    "# print(\"최적 매개변수: {}\".format(grid_gbc.best_params_))"
   ]
  },
  {
   "cell_type": "code",
   "execution_count": null,
   "id": "19ddce9f",
   "metadata": {},
   "outputs": [],
   "source": []
  },
  {
   "cell_type": "code",
   "execution_count": null,
   "id": "ed7253d8",
   "metadata": {
    "ExecuteTime": {
     "end_time": "2023-06-02T05:46:42.643884Z",
     "start_time": "2023-06-02T04:50:19.523755Z"
    },
    "scrolled": true
   },
   "outputs": [],
   "source": [
    "aa = []\n",
    "bb = []\n",
    "cc = []\n",
    "df_traintest = {'index':[], 'Train':[], 'Test':[]}\n",
    "\n",
    "for i in [50, 100, 150, 200]:\n",
    "    for j in [0.001, 0.01, 0.1, 1.0]:\n",
    "        for k in [5,6,7,8,9]:\n",
    "            gbc = GradientBoostingClassifier()\n",
    "            gbc = GradientBoostingClassifier(n_estimators = i,learning_rate = j,max_depth=k)\n",
    "            gbc.fit(X_train_std, y_train)\n",
    "            \n",
    "            y_train_pred=gbc.predict(X_train_std)\n",
    "            y_test_pred=gbc.predict(X_test_std)\n",
    "            print(i, j, k)\n",
    "            aa.append('{0}, {1}, {2}'.format(i, j, k))\n",
    "\n",
    "            print(metrics.accuracy_score(y_train,y_train_pred)) #train data에 대한 accuracy\n",
    "            bb.append(metrics.accuracy_score(y_train, y_train_pred))\n",
    "\n",
    "            print(metrics.accuracy_score(y_test,y_test_pred))  #test data에 대한 accuracy\n",
    "            cc.append(metrics.accuracy_score(y_test, y_test_pred))\n"
   ]
  },
  {
   "cell_type": "code",
   "execution_count": null,
   "id": "63496950",
   "metadata": {
    "ExecuteTime": {
     "end_time": "2023-06-02T05:47:55.029968Z",
     "start_time": "2023-06-02T05:47:55.000266Z"
    }
   },
   "outputs": [],
   "source": [
    "df_traintest = pd.DataFrame(df_traintest)\n",
    "df_traintest['index'] = aa\n",
    "df_traintest['Train'] = bb\n",
    "df_traintest['Test'] = cc\n",
    "df_traintest = df_traintest.set_index('index')\n",
    "\n",
    "\n",
    "aa_GradientBoost= aa\n",
    "bb_GradientBoost = bb\n",
    "cc_GradientBoost = cc\n",
    "df_traintest_GradientBoost = df_traintest\n",
    "\n",
    "df_traintest_GradientBoost"
   ]
  },
  {
   "cell_type": "code",
   "execution_count": null,
   "id": "108e8c46",
   "metadata": {
    "ExecuteTime": {
     "end_time": "2023-06-02T05:48:12.812622Z",
     "start_time": "2023-06-02T05:48:12.455271Z"
    }
   },
   "outputs": [],
   "source": [
    "plt.rc('font', family='Malgun Gothic')\n",
    "\n",
    "df1 = pd.DataFrame(df_traintest['Train'])\n",
    "df2 = pd.DataFrame(df_traintest['Test'])\n",
    "df2 = df2.set_index(df1.index)\n",
    "\n",
    "result = pd.concat([df1, df2], axis=1)\n",
    "result.columns = ['Train', 'Test']\n",
    "\n",
    "result['Train'].plot(figsize=(40, 16), alpha=1.0)\n",
    "result['Test'].plot(figsize=(40, 16), alpha=1.0)\n",
    "plt.legend(fontsize=30)\n",
    "plt.title(\"GradientBoost\", size = 30)\n",
    "plt.xlabel(\"\\n하이퍼파라미터\", size = 25)\n",
    "plt.ylabel(\"정확도\", size = 25)\n",
    "plt.tick_params(axis='x', labelsize=17)\n",
    "plt.tick_params(axis='y', labelsize=17)\n",
    "plt.show()"
   ]
  },
  {
   "cell_type": "code",
   "execution_count": null,
   "id": "6672bbc7",
   "metadata": {
    "ExecuteTime": {
     "end_time": "2023-06-02T05:50:12.231714Z",
     "start_time": "2023-06-02T05:50:11.914896Z"
    }
   },
   "outputs": [],
   "source": [
    "import matplotlib.pyplot as plt\n",
    "import seaborn as sns\n",
    "import warnings\n",
    "warnings.simplefilter(action='ignore', category=FutureWarning)\n",
    "\n",
    "feature_imp = pd.DataFrame(sorted(zip(gbc.feature_importances_,X.columns)), columns=['Value','Feature'])\n",
    "\n",
    "plt.figure(figsize=(20, 12))\n",
    "sns.barplot(x=\"Value\", y=\"Feature\", data=feature_imp.sort_values(by=\"Value\", ascending=False)[:15])\n",
    "# plt.title('LightGBM Feature importances')\n",
    "plt.tight_layout()\n",
    "plt.show()"
   ]
  },
  {
   "cell_type": "code",
   "execution_count": null,
   "id": "6260899c",
   "metadata": {},
   "outputs": [],
   "source": [
    "print(metrics.confusion_matrix(y_test,y_test_pred))"
   ]
  },
  {
   "cell_type": "markdown",
   "id": "b919ea4b",
   "metadata": {},
   "source": [
    "# XGBoost"
   ]
  },
  {
   "cell_type": "code",
   "execution_count": null,
   "id": "bf7c81d8",
   "metadata": {
    "ExecuteTime": {
     "end_time": "2023-06-02T05:59:52.017317Z",
     "start_time": "2023-06-02T05:59:52.008343Z"
    }
   },
   "outputs": [],
   "source": [
    "from sklearn.preprocessing import LabelEncoder\n",
    "\n",
    "le=LabelEncoder()\n",
    "le.fit(y_train)\n",
    "y_train=le.transform(y_train)\n",
    "le.fit(y_test)\n",
    "y_test=le.transform(y_test)"
   ]
  },
  {
   "cell_type": "code",
   "execution_count": null,
   "id": "da1b75ee",
   "metadata": {
    "ExecuteTime": {
     "end_time": "2023-06-02T05:59:54.811373Z",
     "start_time": "2023-06-02T05:59:54.756561Z"
    }
   },
   "outputs": [],
   "source": [
    "# grid search\n",
    "import xgboost as xgb\n",
    "\n",
    "# param_grid={'n_estimators':[50,80,100,200],'learning_rate':[0.01,0.1,1.0],'max_depth':[2,3,4,5,6,7]}\n",
    "\n",
    "# grid_xgbc = GridSearchCV(xgbc, param_grid, cv=10)\n",
    "\n",
    "# grid_xgbc.fit(X_train, y_train)\n",
    "# print(\"최적 매개변수: {}\".format(grid_xgbc.best_params_))"
   ]
  },
  {
   "cell_type": "code",
   "execution_count": null,
   "id": "d713a986",
   "metadata": {
    "ExecuteTime": {
     "end_time": "2023-06-02T06:12:39.311586Z",
     "start_time": "2023-06-02T06:02:44.462070Z"
    },
    "scrolled": true
   },
   "outputs": [],
   "source": [
    "aa = []\n",
    "bb = []\n",
    "cc = []\n",
    "df_traintest = {'index':[], 'Train':[], 'Test':[]}\n",
    "\n",
    "for i in [50, 100, 150, 200]:\n",
    "    for j in [0.001, 0.01, 0.1, 1.0]:\n",
    "        for k in [5,6,7,8,9]:\n",
    "            xgbc=xgb.XGBClassifier()\n",
    "            xgbc =  xgb.XGBClassifier(n_estimators = i,learning_rate = j,max_depth=k)\n",
    "            xgbc.fit(X_train_std, y_train)\n",
    "            \n",
    "            y_train_pred=xgbc.predict(X_train_std)\n",
    "            y_test_pred=xgbc.predict(X_test_std)\n",
    "            print(i, j, k)\n",
    "            aa.append('{0}, {1}, {2}'.format(i, j, k))\n",
    "\n",
    "            print(metrics.accuracy_score(y_train,y_train_pred)) #train data에 대한 accuracy\n",
    "            bb.append(metrics.accuracy_score(y_train, y_train_pred))\n",
    "\n",
    "            print(metrics.accuracy_score(y_test,y_test_pred))  #test data에 대한 accuracy\n",
    "            cc.append(metrics.accuracy_score(y_test, y_test_pred))"
   ]
  },
  {
   "cell_type": "code",
   "execution_count": null,
   "id": "9a0c66ca",
   "metadata": {
    "ExecuteTime": {
     "end_time": "2023-06-02T06:25:21.353503Z",
     "start_time": "2023-06-02T06:25:21.330380Z"
    }
   },
   "outputs": [],
   "source": [
    "df_traintest = pd.DataFrame(df_traintest)\n",
    "df_traintest['index'] = aa\n",
    "df_traintest['Train'] = bb\n",
    "df_traintest['Test'] = cc\n",
    "df_traintest = df_traintest.set_index('index')\n",
    "\n",
    "\n",
    "aa_xgboost= aa\n",
    "bb_xgboost = bb\n",
    "cc_xgboost = cc\n",
    "df_traintest_xgboost = df_traintest\n",
    "\n",
    "df_traintest_xgboost"
   ]
  },
  {
   "cell_type": "code",
   "execution_count": null,
   "id": "07c511b0",
   "metadata": {
    "ExecuteTime": {
     "end_time": "2023-06-02T06:25:29.494660Z",
     "start_time": "2023-06-02T06:25:29.058993Z"
    }
   },
   "outputs": [],
   "source": [
    "plt.rc('font', family='Malgun Gothic')\n",
    "\n",
    "df1 = pd.DataFrame(df_traintest['Train'])\n",
    "df2 = pd.DataFrame(df_traintest['Test'])\n",
    "df2 = df2.set_index(df1.index)\n",
    "\n",
    "result = pd.concat([df1, df2], axis=1)\n",
    "result.columns = ['Train', 'Test']\n",
    "\n",
    "result['Train'].plot(figsize=(40, 16), alpha=1.0)\n",
    "result['Test'].plot(figsize=(40, 16), alpha=1.0)\n",
    "plt.legend(fontsize=30)\n",
    "plt.title(\"GradientBoost\", size = 30)\n",
    "plt.xlabel(\"\\n하이퍼파라미터\", size = 25)\n",
    "plt.ylabel(\"정확도\", size = 25)\n",
    "plt.tick_params(axis='x', labelsize=17)\n",
    "plt.tick_params(axis='y', labelsize=17)\n",
    "plt.show()"
   ]
  },
  {
   "cell_type": "code",
   "execution_count": null,
   "id": "853ac380",
   "metadata": {
    "ExecuteTime": {
     "end_time": "2023-06-02T06:25:58.129322Z",
     "start_time": "2023-06-02T06:25:57.799476Z"
    }
   },
   "outputs": [],
   "source": [
    "import matplotlib.pyplot as plt\n",
    "import seaborn as sns\n",
    "import warnings\n",
    "warnings.simplefilter(action='ignore', category=FutureWarning)\n",
    "\n",
    "feature_imp = pd.DataFrame(sorted(zip(xgbc.feature_importances_,X.columns)), columns=['Value','Feature'])\n",
    "\n",
    "plt.figure(figsize=(20, 12))\n",
    "sns.barplot(x=\"Value\", y=\"Feature\", data=feature_imp.sort_values(by=\"Value\", ascending=False)[:15])\n",
    "# plt.title('LightGBM Feature importances')\n",
    "plt.tight_layout()\n",
    "plt.show()"
   ]
  }
 ],
 "metadata": {
  "kernelspec": {
   "display_name": "Python 3 (ipykernel)",
   "language": "python",
   "name": "python3"
  },
  "language_info": {
   "codemirror_mode": {
    "name": "ipython",
    "version": 3
   },
   "file_extension": ".py",
   "mimetype": "text/x-python",
   "name": "python",
   "nbconvert_exporter": "python",
   "pygments_lexer": "ipython3",
   "version": "3.9.7"
  },
  "toc": {
   "base_numbering": 1,
   "nav_menu": {},
   "number_sections": true,
   "sideBar": true,
   "skip_h1_title": false,
   "title_cell": "Table of Contents",
   "title_sidebar": "Contents",
   "toc_cell": false,
   "toc_position": {},
   "toc_section_display": true,
   "toc_window_display": false
  },
  "varInspector": {
   "cols": {
    "lenName": 16,
    "lenType": 16,
    "lenVar": 40
   },
   "kernels_config": {
    "python": {
     "delete_cmd_postfix": "",
     "delete_cmd_prefix": "del ",
     "library": "var_list.py",
     "varRefreshCmd": "print(var_dic_list())"
    },
    "r": {
     "delete_cmd_postfix": ") ",
     "delete_cmd_prefix": "rm(",
     "library": "var_list.r",
     "varRefreshCmd": "cat(var_dic_list()) "
    }
   },
   "types_to_exclude": [
    "module",
    "function",
    "builtin_function_or_method",
    "instance",
    "_Feature"
   ],
   "window_display": false
  }
 },
 "nbformat": 4,
 "nbformat_minor": 5
}
